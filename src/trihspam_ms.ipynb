{
 "cells": [
  {
   "cell_type": "markdown",
   "metadata": {},
   "source": [
    "## TriHSPAM\n",
    "\n",
    "### Experiments with MS dataset \n",
    "with Strict Alignments Option"
   ]
  },
  {
   "cell_type": "markdown",
   "metadata": {},
   "source": [
    "##### 0. Preprocessing & Loading Functions"
   ]
  },
  {
   "cell_type": "code",
   "execution_count": 1,
   "metadata": {},
   "outputs": [],
   "source": [
    "import csv\n",
    "import numpy as np\n",
    "\n",
    "def read_transactions_csv(file_path):\n",
    "    visits = {}\n",
    "    with open(file_path, 'r') as csv_file:\n",
    "        csv_reader = csv.DictReader(csv_file)\n",
    "        for row in csv_reader:\n",
    "            patient_id = row['patient_id']\n",
    "            if patient_id not in visits:\n",
    "                visits[patient_id] = []\n",
    "            visits[patient_id].append(row)\n",
    "    \n",
    "    max_visits = max(len(visits[patient_id]) for patient_id in visits)\n",
    "    num_patients = len(visits)\n",
    "    num_features = len(visits[next(iter(visits))][0]) - 1  # Excluding patientID\n",
    "    \n",
    "    # Create a 3D numpy array to store visits\n",
    "    transactions_array = np.empty((max_visits, num_patients, num_features), dtype=object)\n",
    "    \n",
    "    for i, (patient_id, patient_visit) in enumerate(visits.items()):\n",
    "        for j, transaction in enumerate(patient_visit):\n",
    "            transaction_details = [val if val is not None and val != \"\" else np.nan for key, val in transaction.items() if key != 'patient_id']\n",
    "            transactions_array[j, i, :] = transaction_details\n",
    "        # If a patient has fewer transactions than the maximum, pad with np.nan\n",
    "        for j in range(len(patient_visit), max_visits):\n",
    "            transactions_array[j, i, :] = np.nan\n",
    "    transactions_array = np.transpose(transactions_array, (2,1,0))\n",
    "    return transactions_array"
   ]
  },
  {
   "cell_type": "code",
   "execution_count": 2,
   "metadata": {},
   "outputs": [
    {
     "name": "stdout",
     "output_type": "stream",
     "text": [
      "(11, 510, 28)\n"
     ]
    }
   ],
   "source": [
    "transactions_3d_array = read_transactions_csv(\"realData/MS_data/MS_snapshots_modified.csv\")\n",
    "print(transactions_3d_array.shape)"
   ]
  },
  {
   "cell_type": "markdown",
   "metadata": {},
   "source": [
    "##### 1. Triclustering with TriHSPAM"
   ]
  },
  {
   "cell_type": "code",
   "execution_count": 3,
   "metadata": {},
   "outputs": [],
   "source": [
    "from TriHSPAM import TriHSPAM\n",
    "triclustering = TriHSPAM(symb_features_idx=[0,1,2,5,6,7,8],\n",
    "                          num_features_idx=[3,4,9,10],\n",
    "                          min_I= 50,\n",
    "                          min_J=2, \n",
    "                          min_K=2,\n",
    "                          disc_method=\"eq_width\",\n",
    "                          n_bins=10,\n",
    "                          time_as_cols=True,\n",
    "                          time_relaxed=False, #strict alignments option\n",
    "                          spm_algo='fournier08closed')"
   ]
  },
  {
   "cell_type": "code",
   "execution_count": 4,
   "metadata": {},
   "outputs": [
    {
     "name": "stdout",
     "output_type": "stream",
     "text": [
      ">/Users/diogosoares/Documents/PhD Work/TriHSPAM/src/spmf_vd.jar\n",
      "=============  Algorithm - STATISTICS =============\n",
      " Total time ~ 2075941 ms\n",
      " Frequent sequences count : 8524\n",
      "===================================================\n",
      "\n"
     ]
    },
    {
     "data": {
      "text/plain": [
       "<TriHSPAM.TriHSPAM at 0x110a87310>"
      ]
     },
     "execution_count": 4,
     "metadata": {},
     "output_type": "execute_result"
    }
   ],
   "source": [
    "triclustering.fit(transactions_3d_array)"
   ]
  },
  {
   "cell_type": "code",
   "execution_count": 5,
   "metadata": {},
   "outputs": [],
   "source": [
    "trics = triclustering.triclusters_()"
   ]
  },
  {
   "cell_type": "code",
   "execution_count": 6,
   "metadata": {},
   "outputs": [
    {
     "data": {
      "text/plain": [
       "7548"
      ]
     },
     "execution_count": 6,
     "metadata": {},
     "output_type": "execute_result"
    }
   ],
   "source": [
    "len(trics)"
   ]
  },
  {
   "cell_type": "markdown",
   "metadata": {},
   "source": [
    "##### 2. Assessing Statistical Significance"
   ]
  },
  {
   "cell_type": "code",
   "execution_count": 7,
   "metadata": {},
   "outputs": [],
   "source": [
    "from sigStats import significance, Tricluster\n",
    "import pandas as pd\n",
    "import copy\n",
    "\n",
    "lst_trics = []\n",
    "data_f = copy.deepcopy(transactions_3d_array.transpose((1,0,2)))\n",
    "Y_cat = [0,1,2,5,6,7,8,10]\n",
    "            \n",
    "for t_id, tric in enumerate(trics):\n",
    "    t = Tricluster(data_f, Y_cat, tric[0], tric[1], tric[2])\n",
    "    lst_trics.append(t)\n",
    "\n",
    "p_values = significance(data_f, Y_cat, lst_trics, 0.1)"
   ]
  },
  {
   "cell_type": "code",
   "execution_count": 8,
   "metadata": {},
   "outputs": [],
   "source": [
    "sign_stats = []\n",
    "\n",
    "for t_i, p_val in enumerate(p_values):\n",
    "    if p_val < 0.001:\n",
    "        row = {'TricID':t_i, 'p-value':p_val}\n",
    "        sign_stats.append(row)\n",
    "\n",
    "df_stat = pd.DataFrame(sign_stats)\n",
    "df_stat.to_csv(\"signStats_ms.csv\", index=False)"
   ]
  },
  {
   "cell_type": "code",
   "execution_count": 9,
   "metadata": {},
   "outputs": [
    {
     "data": {
      "text/html": [
       "<div>\n",
       "<style scoped>\n",
       "    .dataframe tbody tr th:only-of-type {\n",
       "        vertical-align: middle;\n",
       "    }\n",
       "\n",
       "    .dataframe tbody tr th {\n",
       "        vertical-align: top;\n",
       "    }\n",
       "\n",
       "    .dataframe thead th {\n",
       "        text-align: right;\n",
       "    }\n",
       "</style>\n",
       "<table border=\"1\" class=\"dataframe\">\n",
       "  <thead>\n",
       "    <tr style=\"text-align: right;\">\n",
       "      <th></th>\n",
       "      <th>TricID</th>\n",
       "      <th>p-value</th>\n",
       "    </tr>\n",
       "  </thead>\n",
       "  <tbody>\n",
       "    <tr>\n",
       "      <th>7459</th>\n",
       "      <td>7459</td>\n",
       "      <td>5.117670e-307</td>\n",
       "    </tr>\n",
       "    <tr>\n",
       "      <th>3359</th>\n",
       "      <td>3359</td>\n",
       "      <td>1.023534e-306</td>\n",
       "    </tr>\n",
       "    <tr>\n",
       "      <th>3389</th>\n",
       "      <td>3389</td>\n",
       "      <td>1.068035e-306</td>\n",
       "    </tr>\n",
       "    <tr>\n",
       "      <th>7458</th>\n",
       "      <td>7458</td>\n",
       "      <td>1.134788e-306</td>\n",
       "    </tr>\n",
       "    <tr>\n",
       "      <th>7455</th>\n",
       "      <td>7455</td>\n",
       "      <td>1.490799e-306</td>\n",
       "    </tr>\n",
       "    <tr>\n",
       "      <th>3388</th>\n",
       "      <td>3388</td>\n",
       "      <td>1.668805e-306</td>\n",
       "    </tr>\n",
       "    <tr>\n",
       "      <th>3387</th>\n",
       "      <td>3387</td>\n",
       "      <td>2.002566e-306</td>\n",
       "    </tr>\n",
       "    <tr>\n",
       "      <th>7457</th>\n",
       "      <td>7457</td>\n",
       "      <td>2.225074e-306</td>\n",
       "    </tr>\n",
       "    <tr>\n",
       "      <th>7454</th>\n",
       "      <td>7454</td>\n",
       "      <td>2.314077e-306</td>\n",
       "    </tr>\n",
       "    <tr>\n",
       "      <th>7453</th>\n",
       "      <td>7453</td>\n",
       "      <td>2.536584e-306</td>\n",
       "    </tr>\n",
       "  </tbody>\n",
       "</table>\n",
       "</div>"
      ],
      "text/plain": [
       "      TricID        p-value\n",
       "7459    7459  5.117670e-307\n",
       "3359    3359  1.023534e-306\n",
       "3389    3389  1.068035e-306\n",
       "7458    7458  1.134788e-306\n",
       "7455    7455  1.490799e-306\n",
       "3388    3388  1.668805e-306\n",
       "3387    3387  2.002566e-306\n",
       "7457    7457  2.225074e-306\n",
       "7454    7454  2.314077e-306\n",
       "7453    7453  2.536584e-306"
      ]
     },
     "execution_count": 9,
     "metadata": {},
     "output_type": "execute_result"
    }
   ],
   "source": [
    "df_stat.sort_values('p-value').head(10)"
   ]
  },
  {
   "cell_type": "markdown",
   "metadata": {},
   "source": [
    "##### 3. Patterns Representation"
   ]
  },
  {
   "cell_type": "code",
   "execution_count": 10,
   "metadata": {},
   "outputs": [
    {
     "name": "stdout",
     "output_type": "stream",
     "text": [
      "488 ['age_at_onset', 'edss_as_evaluated_by_clinician'] [0, 1]\n",
      "[[31.15, 2.0], [31.15, 2.0]]\n",
      "465 ['ms_in_pediatric_age', 'age_at_onset'] [0, 1]\n",
      "[['False', 31.97], ['False', 31.97]]\n",
      "463 ['ms_in_pediatric_age', 'age_at_onset', 'edss_as_evaluated_by_clinician'] [0, 1]\n",
      "[['False', 31.96, 2.0], ['False', 31.96, 1.75]]\n",
      "460 ['age_at_onset', 'edss_as_evaluated_by_clinician'] [0, 1, 2]\n",
      "[[31.25, 2.0], [31.25, 2.0], [31.25, 1.5]]\n",
      "444 ['age_at_onset', 'edss_as_evaluated_by_clinician'] [0, 1, 2]\n",
      "[[31.28, 2.0], [31.28, 2.0], [31.28, 1.5]]\n",
      "436 ['ms_in_pediatric_age', 'age_at_onset', 'edss_as_evaluated_by_clinician'] [0, 1, 2]\n",
      "[['False', 32.08, 2.0], ['False', 32.08, 2.0], ['False', 32.08, 1.5]]\n",
      "421 ['ms_in_pediatric_age', 'age_at_onset', 'edss_as_evaluated_by_clinician'] [0, 1, 2]\n",
      "[['False', 32.1, 2.0], ['False', 32.1, 2.0], ['False', 32.1, 1.5]]\n",
      "411 ['age_at_onset', 'edss_as_evaluated_by_clinician'] [0, 1, 2, 3]\n",
      "[[31.3, 2.0], [31.3, 2.0], [31.3, 1.5], [31.3, 2.0]]\n",
      "407 ['age_at_onset', 'edss_as_evaluated_by_clinician'] [0, 1, 2, 3]\n",
      "[[31.35, 2.0], [31.35, 2.0], [31.35, 1.5], [31.35, 2.0]]\n",
      "397 ['age_at_onset', 'edss_as_evaluated_by_clinician'] [0, 1, 2, 3]\n",
      "[[31.43, 2.0], [31.43, 2.0], [31.43, 1.5], [31.43, 2.0]]\n"
     ]
    },
    {
     "name": "stderr",
     "output_type": "stream",
     "text": [
      "/Users/diogosoares/Documents/PhD Work/TriHSPAM/src/visualize_patterns.py:26: RuntimeWarning: Mean of empty slice\n",
      "  vals[i] = round(np.nanmean(converted_column),2)\n",
      "/Users/diogosoares/Library/Python/3.8/lib/python/site-packages/numpy/lib/nanfunctions.py:1217: RuntimeWarning: All-NaN slice encountered\n",
      "  return function_base._ureduce(a, func=_nanmedian, keepdims=keepdims,\n"
     ]
    }
   ],
   "source": [
    "from visualize_patterns import compute_representative_patterns\n",
    "\n",
    "df = pd.read_csv(\"realData/MS_data/MS_snapshots_modified.csv\", sep=',')\n",
    "data_modes = [0,1,2,5,6,7,8]\n",
    "data_means = [3,4,9]\n",
    "data_medians = [10]\n",
    "\n",
    "for t_id in df_stat.sort_values('p-value').head(10)['TricID']:\n",
    "    tric_dims = trics[t_id]\n",
    "    print(len(tric_dims[0]), list(df.columns[1:][tric_dims[1]]), tric_dims[2])\n",
    "    print(compute_representative_patterns(triclustering.get_tricluster(t_id), \n",
    "                                        mode_feats=[i for i in tric_dims[1] if i in data_modes],\n",
    "                                        mean_features=[i for i in tric_dims[1] if i in data_means],\n",
    "                                        median_features=[i for i in tric_dims[1] if i in data_medians]))\n"
   ]
  },
  {
   "cell_type": "code",
   "execution_count": null,
   "metadata": {},
   "outputs": [],
   "source": []
  }
 ],
 "metadata": {
  "kernelspec": {
   "display_name": "Python 3",
   "language": "python",
   "name": "python3"
  },
  "language_info": {
   "codemirror_mode": {
    "name": "ipython",
    "version": 3
   },
   "file_extension": ".py",
   "mimetype": "text/x-python",
   "name": "python",
   "nbconvert_exporter": "python",
   "pygments_lexer": "ipython3",
   "version": "3.8.2"
  }
 },
 "nbformat": 4,
 "nbformat_minor": 2
}
